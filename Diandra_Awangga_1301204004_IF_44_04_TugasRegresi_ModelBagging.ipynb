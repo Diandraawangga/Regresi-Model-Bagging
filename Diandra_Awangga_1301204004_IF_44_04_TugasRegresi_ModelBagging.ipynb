{
  "nbformat": 4,
  "nbformat_minor": 0,
  "metadata": {
    "colab": {
      "provenance": []
    },
    "kernelspec": {
      "name": "python3",
      "display_name": "Python 3"
    },
    "language_info": {
      "name": "python"
    }
  },
  "cells": [
    {
      "cell_type": "markdown",
      "source": [
        "# **Step 1: Formulasi masalah**"
      ],
      "metadata": {
        "id": "ZpdQBO8XdS_b"
      }
    },
    {
      "cell_type": "markdown",
      "source": [
        "Permasalahan yang akan diselesaikan adalah memprediksi tingkat kehematan bahan bakar (MPG) pada kendaraan berdasarkan profil kendaraan yang diberikan, diwakili oleh atribut-atribut seperti jumlah silinder, daya (tenaga kuda), tahun keluaran, dan lainnya."
      ],
      "metadata": {
        "id": "FbpEUsLsdVqC"
      }
    },
    {
      "cell_type": "markdown",
      "source": [
        "#**Step 2: Eksplorasi dan pra-pemrosesan data**"
      ],
      "metadata": {
        "id": "-bD4VJ6gdfVg"
      }
    },
    {
      "cell_type": "markdown",
      "source": [
        "Langkah pertama adalah mengimpor dataset dan melakukan eksplorasi data. Ini termasuk mengecek tipe data setiap kolom, mencari data yang hilang atau tidak valid, dan menghitung statistik sederhana seperti mean, median, dan modus. Kemudian, kita akan memisahkan data menjadi kelompok data latih (training set) dan kelompok data uji (test set). Ini akan membantu kita untuk mengevaluasi model dengan data yang tidak terlibat dalam proses pembelajaran. Selanjutnya, kita mungkin perlu melakukan normalisasi atau standarisasi data agar semua atribut memiliki skala yang sama."
      ],
      "metadata": {
        "id": "qwBvAzWMrXa_"
      }
    },
    {
      "cell_type": "code",
      "execution_count": null,
      "metadata": {
        "id": "b1tmqYX7ckKK"
      },
      "outputs": [],
      "source": [
        "# Import library yang diperlukan\n",
        "import numpy as np\n",
        "import pandas as pd\n",
        "from sklearn.ensemble import BaggingRegressor\n",
        "from sklearn.metrics import mean_squared_error\n",
        "from sklearn.model_selection import train_test_split"
      ]
    },
    {
      "cell_type": "code",
      "source": [
        "# Baca dataset autos MPG menggunakan Pandas\n",
        "df = pd.read_csv(\"autos_mpg.csv\")"
      ],
      "metadata": {
        "id": "SAy31RAzdkio"
      },
      "execution_count": null,
      "outputs": []
    },
    {
      "cell_type": "code",
      "source": [
        "# Tampilkan informasi mengenai dataset, seperti jumlah baris dan kolom, tipe data pada setiap kolom, dan statistik deskriptif\n",
        "print(f\"Shape: {df.shape}\")\n",
        "print(f\"Columns: {df.columns}\")\n",
        "print(f\"Data types:\\n{df.dtypes}\")\n",
        "print(f\"Descriptive statistics:\\n{df.describe()}\")"
      ],
      "metadata": {
        "colab": {
          "base_uri": "https://localhost:8080/"
        },
        "id": "ZzM6jdhedp1X",
        "outputId": "dbb0cb7e-d6d7-4faf-d587-f58caf80ba72"
      },
      "execution_count": null,
      "outputs": [
        {
          "output_type": "stream",
          "name": "stdout",
          "text": [
            "Shape: (398, 9)\n",
            "Columns: Index(['mpg', 'cylinders', 'displacement', 'horsepower', 'weight',\n",
            "       'acceleration', 'model_year', 'origin', 'car_name'],\n",
            "      dtype='object')\n",
            "Data types:\n",
            "mpg             float64\n",
            "cylinders         int64\n",
            "displacement    float64\n",
            "horsepower       object\n",
            "weight            int64\n",
            "acceleration    float64\n",
            "model_year        int64\n",
            "origin            int64\n",
            "car_name         object\n",
            "dtype: object\n",
            "Descriptive statistics:\n",
            "              mpg   cylinders  displacement       weight  acceleration  \\\n",
            "count  398.000000  398.000000    398.000000   398.000000    398.000000   \n",
            "mean    23.514573    5.454774    193.425879  2970.424623     15.568090   \n",
            "std      7.815984    1.701004    104.269838   846.841774      2.757689   \n",
            "min      9.000000    3.000000     68.000000  1613.000000      8.000000   \n",
            "25%     17.500000    4.000000    104.250000  2223.750000     13.825000   \n",
            "50%     23.000000    4.000000    148.500000  2803.500000     15.500000   \n",
            "75%     29.000000    8.000000    262.000000  3608.000000     17.175000   \n",
            "max     46.600000    8.000000    455.000000  5140.000000     24.800000   \n",
            "\n",
            "       model_year      origin  \n",
            "count  398.000000  398.000000  \n",
            "mean    76.010050    1.572864  \n",
            "std      3.697627    0.802055  \n",
            "min     70.000000    1.000000  \n",
            "25%     73.000000    1.000000  \n",
            "50%     76.000000    1.000000  \n",
            "75%     79.000000    2.000000  \n",
            "max     82.000000    3.000000  \n"
          ]
        }
      ]
    },
    {
      "cell_type": "code",
      "source": [
        "# Cek apakah terdapat missing values pada dataset\n",
        "print(f\"Missing values:\\n{df.isnull().sum()}\")"
      ],
      "metadata": {
        "colab": {
          "base_uri": "https://localhost:8080/"
        },
        "id": "6fPInjq9p3FI",
        "outputId": "383063bf-c750-4950-c68f-33a564aa2e6f"
      },
      "execution_count": null,
      "outputs": [
        {
          "output_type": "stream",
          "name": "stdout",
          "text": [
            "Missing values:\n",
            "mpg             0\n",
            "cylinders       0\n",
            "displacement    0\n",
            "horsepower      0\n",
            "weight          0\n",
            "acceleration    0\n",
            "model_year      0\n",
            "origin          0\n",
            "car_name        0\n",
            "dtype: int64\n"
          ]
        }
      ]
    },
    {
      "cell_type": "code",
      "source": [
        "# Jika terdapat missing values, lakukan penanganannya\n",
        "# Misalnya dengan mengubah string '?' menjadi NaN\n",
        "df = df.replace('?', np.nan)"
      ],
      "metadata": {
        "id": "oJn9G6Frp45I"
      },
      "execution_count": null,
      "outputs": []
    },
    {
      "cell_type": "code",
      "source": [
        "# Isi NaN dengan median atau mean dari kolom tersebut\n",
        "df = df.fillna(df.median())"
      ],
      "metadata": {
        "colab": {
          "base_uri": "https://localhost:8080/"
        },
        "id": "QeytkWBGp_TQ",
        "outputId": "fb4cdae8-1cad-41e8-fe7c-1b4f7ff2d6b1"
      },
      "execution_count": null,
      "outputs": [
        {
          "output_type": "stream",
          "name": "stderr",
          "text": [
            "<ipython-input-7-6015e0ba9ece>:2: FutureWarning: Dropping of nuisance columns in DataFrame reductions (with 'numeric_only=None') is deprecated; in a future version this will raise TypeError.  Select only valid columns before calling the reduction.\n",
            "  df = df.fillna(df.median())\n"
          ]
        }
      ]
    },
    {
      "cell_type": "code",
      "source": [
        "# Standarkan nilai-nilai atribut dengan menggunakan StandardScaler\n",
        "from sklearn.preprocessing import StandardScaler\n",
        "scaler = StandardScaler()"
      ],
      "metadata": {
        "id": "3ZTYxdO3qBtQ"
      },
      "execution_count": null,
      "outputs": []
    },
    {
      "cell_type": "code",
      "source": [
        "# Pilih kolom-kolom yang tidak merupakan string sebagai input StandardScaler\n",
        "X = df.select_dtypes(exclude='object').drop(\"mpg\", axis=1)\n",
        "X = scaler.fit_transform(X)\n",
        "y = df[\"mpg\"]"
      ],
      "metadata": {
        "id": "ptqGE-TNqCyB"
      },
      "execution_count": null,
      "outputs": []
    },
    {
      "cell_type": "markdown",
      "source": [
        "# **Step 3: Pemodelan**"
      ],
      "metadata": {
        "id": "Zv8HzG7pqMC4"
      }
    },
    {
      "cell_type": "markdown",
      "source": [
        "Setelah data telah disiapkan, kita dapat membangun model regresi menggunakan salah satu algoritma seperti regresi linear, regresi ridge, atau regresi lasso. Kita akan melakukan pelatihan model dengan menggunakan data latih, dan kemudian mengevaluasi model dengan menggunakan data uji. Kita akan memilih model yang memiliki nilai error terkecil."
      ],
      "metadata": {
        "id": "8ouY_zCRraAP"
      }
    },
    {
      "cell_type": "code",
      "source": [
        "# Split data menjadi data latih dan data uji dengan proporsi 80:20\n",
        "X_train, X_test, y_train, y_test = train_test_split(X, y, test_size=0.2, random_state=42)"
      ],
      "metadata": {
        "id": "wwErpO6yqR9Y"
      },
      "execution_count": null,
      "outputs": []
    },
    {
      "cell_type": "code",
      "source": [
        "# Buat objek BaggingRegressor dan latih model tersebut dengan data latih\n",
        "model = BaggingRegressor(n_estimators=10, random_state=42)\n",
        "model.fit(X_train, y_train)"
      ],
      "metadata": {
        "colab": {
          "base_uri": "https://localhost:8080/"
        },
        "id": "T88PHx0gqVNQ",
        "outputId": "4e29915a-8207-4794-ccd7-8048b7cb5b9f"
      },
      "execution_count": null,
      "outputs": [
        {
          "output_type": "execute_result",
          "data": {
            "text/plain": [
              "BaggingRegressor(random_state=42)"
            ]
          },
          "metadata": {},
          "execution_count": 10
        }
      ]
    },
    {
      "cell_type": "code",
      "source": [
        "# Prediksi tingkat kehematan bahan bakar kendaraan pada data uji\n",
        "y_pred = model.predict(X_test)"
      ],
      "metadata": {
        "id": "L5B7_-XpqX2Q"
      },
      "execution_count": null,
      "outputs": []
    },
    {
      "cell_type": "markdown",
      "source": [
        "# **Step 4: Evaluasi**"
      ],
      "metadata": {
        "id": "ksjaSb5pqcbo"
      }
    },
    {
      "cell_type": "markdown",
      "source": [
        "Salah satu metode evaluasi yang dapat digunakan adalah menggunakan mean squared error (MSE). MSE mengukur seberapa dekat rata-rata dari selisih kuadrat antara nilai yang diprediksi oleh model dan nilai aktual. Nilai MSE yang lebih kecil menunjukkan model yang lebih baik."
      ],
      "metadata": {
        "id": "6dzC18KIre9v"
      }
    },
    {
      "cell_type": "code",
      "source": [
        "# Import library yang diperlukan\n",
        "from sklearn.metrics import mean_squared_error"
      ],
      "metadata": {
        "id": "HH2KZnsnqhv4"
      },
      "execution_count": null,
      "outputs": []
    },
    {
      "cell_type": "code",
      "source": [
        "# Hitung MSE antara nilai yang sebenarnya (y_test) dan nilai yang dihasilkan oleh model (y_pred)\n",
        "mse = mean_squared_error(y_test, y_pred)"
      ],
      "metadata": {
        "id": "YZAkrCQvqqPL"
      },
      "execution_count": null,
      "outputs": []
    },
    {
      "cell_type": "code",
      "source": [
        "# Tampilkan MSE\n",
        "print(f\"Mean Squared Error: {mse:.2f}\")"
      ],
      "metadata": {
        "colab": {
          "base_uri": "https://localhost:8080/"
        },
        "id": "gIYv3kn7qstM",
        "outputId": "221d361f-05ff-4ccc-99ff-db14a192d82d"
      },
      "execution_count": null,
      "outputs": [
        {
          "output_type": "stream",
          "name": "stdout",
          "text": [
            "Mean Squared Error: 6.12\n"
          ]
        }
      ]
    },
    {
      "cell_type": "markdown",
      "source": [
        "# **Step 5: Eksperimen**"
      ],
      "metadata": {
        "id": "EmHNP4K1qv1k"
      }
    },
    {
      "cell_type": "markdown",
      "source": [
        "Kita dapat melakukan berbagai eksperimen dengan mencoba algoritma regresi yang berbeda, menggunakan kombinasi atribut yang berbeda, atau mencoba teknik pemrosesan data yang berbeda untuk mencari hasil terbaik. Kita dapat membandingkan hasil dari setiap eksperimen untuk menentukan model yang paling baik."
      ],
      "metadata": {
        "id": "OzClowU9rj8X"
      }
    },
    {
      "cell_type": "markdown",
      "source": [
        "Fine-tuning model jika diperlukan"
      ],
      "metadata": {
        "id": "c7V1erS_q4l2"
      }
    },
    {
      "cell_type": "code",
      "source": [
        "# Import library yang diperlukan\n",
        "from sklearn.ensemble import BaggingRegressor\n",
        "from sklearn.metrics import mean_squared_error"
      ],
      "metadata": {
        "id": "AZhys8daq4KW"
      },
      "execution_count": null,
      "outputs": []
    },
    {
      "cell_type": "code",
      "source": [
        "# Buat objek BaggingRegressor dengan n_estimators yang berbeda\n",
        "model1 = BaggingRegressor(n_estimators=10, random_state=42)\n",
        "model2 = BaggingRegressor(n_estimators=20, random_state=42)\n",
        "model3 = BaggingRegressor(n_estimators=30, random_state=42)"
      ],
      "metadata": {
        "id": "TqvsUMemq-4e"
      },
      "execution_count": null,
      "outputs": []
    },
    {
      "cell_type": "code",
      "source": [
        "# Latih masing-masing model dengan data latih\n",
        "model1.fit(X_train, y_train)\n",
        "model2.fit(X_train, y_train)\n",
        "model3.fit(X_train, y_train)"
      ],
      "metadata": {
        "colab": {
          "base_uri": "https://localhost:8080/"
        },
        "id": "CyF7fbjRrAnG",
        "outputId": "21fa11df-de47-4cd5-f668-25ec3a31dea9"
      },
      "execution_count": null,
      "outputs": [
        {
          "output_type": "execute_result",
          "data": {
            "text/plain": [
              "BaggingRegressor(n_estimators=30, random_state=42)"
            ]
          },
          "metadata": {},
          "execution_count": 17
        }
      ]
    },
    {
      "cell_type": "code",
      "source": [
        "# Prediksi tingkat kehematan bahan bakar kendaraan pada data uji\n",
        "y_pred1 = model1.predict(X_test)\n",
        "y_pred2 = model2.predict(X_test)\n",
        "y_pred3 = model3.predict(X_test)"
      ],
      "metadata": {
        "id": "ss7K1tljrCMA"
      },
      "execution_count": null,
      "outputs": []
    },
    {
      "cell_type": "code",
      "source": [
        "# Hitung MSE antara nilai yang sebenarnya (y_test) dan nilai yang dihasilkan oleh model1 (y_pred1)\n",
        "mse1 = mean_squared_error(y_test, y_pred1)\n",
        "\n",
        "# Hitung MSE antara nilai yang sebenarnya (y_test) dan nilai yang dihasilkan oleh model2 (y_pred2)\n",
        "mse2 = mean_squared_error(y_test, y_pred2)\n",
        "\n",
        "# Hitung MSE antara nilai yang sebenarnya (y_test) dan nilai yang dihasilkan oleh model3 (y_pred3)\n",
        "mse3 = mean_squared_error(y_test, y_pred3)"
      ],
      "metadata": {
        "id": "Y_c2DTeprFko"
      },
      "execution_count": null,
      "outputs": []
    },
    {
      "cell_type": "code",
      "source": [
        "# Tampilkan MSE masing-masing model\n",
        "print(f\"Mean Squared Error (model1): {mse1:.2f}\")\n",
        "print(f\"Mean Squared Error (model2): {mse2:.2f}\")\n",
        "print(f\"Mean Squared Error (model3): {mse3:.2f}\")"
      ],
      "metadata": {
        "colab": {
          "base_uri": "https://localhost:8080/"
        },
        "id": "N7G_H84nrIdw",
        "outputId": "ac7fbba8-84a7-4531-8391-4323e39a8ddd"
      },
      "execution_count": null,
      "outputs": [
        {
          "output_type": "stream",
          "name": "stdout",
          "text": [
            "Mean Squared Error (model1): 6.12\n",
            "Mean Squared Error (model2): 5.32\n",
            "Mean Squared Error (model3): 5.29\n"
          ]
        }
      ]
    },
    {
      "cell_type": "markdown",
      "source": [
        "# **Kesimpulan**"
      ],
      "metadata": {
        "id": "bOU0leiSrJ5J"
      }
    },
    {
      "cell_type": "markdown",
      "source": [
        "Kesimpulan dari semua proses yang telah dilakukan adalah model regresi yang paling sesuai untuk memprediksi tingkat kehematan bahan bakar kendaraan. Setelah melakukan eksplorasi dan pra-pemrosesan data, kita telah membangun model dengan menggunakan algoritma regresi yang sesuai dan mengevaluasi model dengan menggunakan metode yang tepat. Kita juga telah melakukan berbagai eksperimen untuk mencari hasil terbaik, dan telah menyimpulkan model yang paling sesuai untuk digunakan."
      ],
      "metadata": {
        "id": "YkNcb3EvrNLY"
      }
    }
  ]
}